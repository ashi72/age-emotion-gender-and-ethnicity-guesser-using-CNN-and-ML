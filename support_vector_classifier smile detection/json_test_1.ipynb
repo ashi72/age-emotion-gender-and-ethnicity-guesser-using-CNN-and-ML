{
 "cells": [
  {
   "cell_type": "code",
   "execution_count": 1,
   "metadata": {},
   "outputs": [
    {
     "name": "stdout",
     "output_type": "stream",
     "text": [
      "{'gravity': {'mediator': 'gravitons', 'relative strength': '1', 'range': 'infinity'}, 'weak': {'mediator': 'W/Z bosons', 'relative strength': '10^25', 'range': '10^-18'}, 'electromagnetic': {'mediator': 'photons', 'relative strength': '10^36', 'range': 'infinity'}, 'strong': {'mediator': 'gluons', 'relative strength': '10^38', 'range': '10^-15'}}\n"
     ]
    }
   ],
   "source": [
    "# Four Fundamental Forces with JSON\n",
    "d = {}\n",
    "\n",
    "d [\"gravity\"] = {\n",
    "\"mediator\":\"gravitons\",\n",
    "\"relative strength\" : \"1\",\n",
    "\"range\" : \"infinity\"\n",
    "}\n",
    "d [\"weak\"] = {\n",
    "\"mediator\":\"W/Z bosons\",\n",
    "\"relative strength\" : \"10^25\",\n",
    "\"range\" : \"10^-18\"\n",
    "}\n",
    "d [\"electromagnetic\"] = {\n",
    "\"mediator\":\"photons\",\n",
    "\"relative strength\" : \"10^36\",\n",
    "\"range\" : \"infinity\"\n",
    "}\n",
    "d [\"strong\"] = {\n",
    "\"mediator\":\"gluons\",\n",
    "\"relative strength\" : \"10^38\",\n",
    "\"range\" : \"10^-15\"\n",
    "}\n",
    "\n",
    "print(d)"
   ]
  },
  {
   "cell_type": "code",
   "execution_count": 2,
   "metadata": {},
   "outputs": [
    {
     "name": "stdout",
     "output_type": "stream",
     "text": [
      "<class 'str'>\n",
      "{\"gravity\": {\"mediator\": \"gravitons\", \"relative strength\": \"1\", \"range\": \"infinity\"}, \"weak\": {\"mediator\": \"W/Z bosons\", \"relative strength\": \"10^25\", \"range\": \"10^-18\"}, \"electromagnetic\": {\"mediator\": \"photons\", \"relative strength\": \"10^36\", \"range\": \"infinity\"}, \"strong\": {\"mediator\": \"gluons\", \"relative strength\": \"10^38\", \"range\": \"10^-15\"}}\n"
     ]
    }
   ],
   "source": [
    "import json\n",
    "data = json.dumps(d)\n",
    "print(type(data))\n",
    "print(data)"
   ]
  },
  {
   "cell_type": "code",
   "execution_count": 3,
   "metadata": {},
   "outputs": [],
   "source": [
    "with open(\"4forces.json\",\"w\") as f:\n",
    "  f.write(data)\n"
   ]
  },
  {
   "cell_type": "code",
   "execution_count": 4,
   "metadata": {},
   "outputs": [],
   "source": [
    "# reads it back\n",
    "with open(\"4forces.json\",\"r\") as f:\n",
    "  data = f.read()\n",
    "\n",
    "# decoding the JSON to dictionay\n",
    "d = json.loads(data)\n"
   ]
  },
  {
   "cell_type": "code",
   "execution_count": 7,
   "metadata": {},
   "outputs": [
    {
     "name": "stdout",
     "output_type": "stream",
     "text": [
      "10^36\n"
     ]
    }
   ],
   "source": [
    "print(d[\"electromagnetic\"][\"relative strength\"])"
   ]
  },
  {
   "cell_type": "code",
   "execution_count": 6,
   "metadata": {},
   "outputs": [
    {
     "name": "stdout",
     "output_type": "stream",
     "text": [
      "gluons\n"
     ]
    }
   ],
   "source": [
    "print(d[\"strong\"][\"mediator\"])"
   ]
  }
 ],
 "metadata": {
  "kernelspec": {
   "display_name": "Python 3",
   "language": "python",
   "name": "python3"
  },
  "language_info": {
   "codemirror_mode": {
    "name": "ipython",
    "version": 3
   },
   "file_extension": ".py",
   "mimetype": "text/x-python",
   "name": "python",
   "nbconvert_exporter": "python",
   "pygments_lexer": "ipython3",
   "version": "3.7.3"
  }
 },
 "nbformat": 4,
 "nbformat_minor": 2
}
