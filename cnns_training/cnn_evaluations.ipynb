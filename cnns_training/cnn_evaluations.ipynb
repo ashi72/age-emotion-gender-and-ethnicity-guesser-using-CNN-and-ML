{
 "cells": [
  {
   "cell_type": "code",
   "execution_count": 63,
   "metadata": {},
   "outputs": [],
   "source": [
    "import tensorflow.keras\n",
    "filepath = \"C:/Users/Aaron Shi/dev/python/bluestamp/race_1\"\n",
    "loaded_model = tensorflow.keras.models.load_model(filepath)"
   ]
  },
  {
   "cell_type": "code",
   "execution_count": 4,
   "metadata": {},
   "outputs": [],
   "source": [
    "from tensorflow.keras.utils import to_categorical\n",
    "from tensorflow.keras.utils import to_categorical\n",
    "import pandas as pd\n",
    "import numpy as np\n",
    "\n",
    "from pathlib import Path\n",
    "\n",
    "#from tqdm import tqdm_notebook as tqdm\n",
    "import pandas as pd\n",
    "import numpy as np\n",
    "import glob\n",
    "import scipy.io\n",
    "import cv2\n",
    "\n",
    "import random\n",
    "import sys\n",
    "import warnings \n",
    "warnings.filterwarnings('ignore')\n",
    "\n",
    "import matplotlib.pyplot as plt\n",
    "%matplotlib inline\n",
    "\n"
   ]
  },
  {
   "cell_type": "code",
   "execution_count": 5,
   "metadata": {},
   "outputs": [],
   "source": [
    "input_path = \"C:/Users/Aaron Shi/dev/python/bluestamp/utk_data_2.mat\"\n",
    "temp = scipy.io.loadmat(input_path)\n",
    "#print(temp)\n",
    "images = temp['images']\n",
    "ages = temp['ages']\n",
    "genders = temp['genders']\n",
    "races = temp['races']\n",
    "image_size = temp['img_size']\n"
   ]
  },
  {
   "cell_type": "code",
   "execution_count": 6,
   "metadata": {},
   "outputs": [],
   "source": [
    "import random\n",
    "#(StartAgeRange, EndAgeRange, Label)\n",
    "#infant, toddler, grade-schooler, adolescent, young-adult, adult, middle-aged, aged, elderly\n",
    "#age_ranges=[(0,1,0), (2,5,1),(6,12,2),(13,18,3),(19,26,4), (27,45,5), (46, 64,6), (65, 79,7), (80, 120,8)]\n",
    "\n",
    "age_classes = [\"infant\", \"toddler\", \"grade-schooler\", \"adolescent\", \"young-adult\", \"adult\", \"middle-aged\", \"aged\", \"elderly\"]"
   ]
  },
  {
   "cell_type": "code",
   "execution_count": 44,
   "metadata": {},
   "outputs": [],
   "source": [
    "\n",
    "X_data = images\n",
    "y_data_g = to_categorical(genders, 2)\n",
    "y_data_a = to_categorical(ages, 9)\n",
    "y_data_r = to_categorical(races, 5)"
   ]
  },
  {
   "cell_type": "code",
   "execution_count": 45,
   "metadata": {},
   "outputs": [],
   "source": [
    "X_data = np.array(X_data)\n",
    "#X_data = X_data.reshape(X_data.shape[0], (64, 64,3))\n",
    "X_data = X_data.astype(\"float32\")\n",
    "X_data /= 255"
   ]
  },
  {
   "cell_type": "code",
   "execution_count": 16,
   "metadata": {},
   "outputs": [
    {
     "name": "stdout",
     "output_type": "stream",
     "text": [
      "23707\n"
     ]
    }
   ],
   "source": [
    "a = random.sample(range(int(len(X_data))),(int(len(X_data)*0.75)))\n",
    "print(len(X_data))"
   ]
  },
  {
   "cell_type": "code",
   "execution_count": 10,
   "metadata": {},
   "outputs": [],
   "source": [
    "def split_data(data):\n",
    "    data_train = []\n",
    "    data_test = []\n",
    "    for i, val in enumerate(data):\n",
    "        if i in a:\n",
    "            data_train.append(val)\n",
    "        else:\n",
    "            data_test.append(val)\n",
    "    return data_train, data_test\n",
    "\n",
    "X_train, X_test = split_data(X_data)"
   ]
  },
  {
   "cell_type": "code",
   "execution_count": 46,
   "metadata": {},
   "outputs": [],
   "source": [
    "X_train, X_test = split_data(X_data)\n",
    "g_train, g_test = split_data(y_data_g[0])\n",
    "a_train, a_test = split_data(y_data_a[0])\n",
    "r_train, r_test = split_data(y_data_r[0])"
   ]
  },
  {
   "cell_type": "code",
   "execution_count": 47,
   "metadata": {},
   "outputs": [],
   "source": [
    "X_train = np.array(X_train)\n",
    "a_train = np.array(a_train)\n",
    "g_train = np.array(g_train)\n",
    "r_train = np.array(r_train)\n",
    "X_test = np.array(X_test)\n",
    "a_test = np.array(a_test)\n",
    "g_test = np.array(g_test)\n",
    "r_test = np.array(r_test)"
   ]
  },
  {
   "cell_type": "code",
   "execution_count": 48,
   "metadata": {},
   "outputs": [],
   "source": [
    "X_train = X_train.reshape((17780, 64, 64, 1))\n",
    "#a_train = a_train.reshape((17780, 64, 64, 1))\n",
    "#g_train = g_train.reshape((1, 64, 64, 1))\n",
    "#r_train = r_train.reshape((11853, 64, 64, 1))\n",
    "X_test = X_test.reshape((5927, 64, 64, 1))\n",
    "#a_test = a_test.reshape((11854, 64, 64, 1))\n",
    "#g_test = g_test.reshape((11854, 64, 64, 1))\n",
    "#r_test = r_test.reshape((11854, 64, 64, 1))\n"
   ]
  },
  {
   "cell_type": "code",
   "execution_count": 49,
   "metadata": {},
   "outputs": [],
   "source": [
    "X_data = np.array(X_data).reshape(23707, 64, 64, 1)\n",
    "y_data_g =  np.array(y_data_g[0])\n",
    "y_data_a =  np.array(y_data_a[0])\n",
    "y_data_r =  np.array(y_data_r[0])\n"
   ]
  },
  {
   "cell_type": "code",
   "execution_count": 50,
   "metadata": {},
   "outputs": [
    {
     "data": {
      "text/plain": [
       "array([[1., 0.],\n",
       "       [1., 0.],\n",
       "       [0., 1.],\n",
       "       ...,\n",
       "       [0., 1.],\n",
       "       [0., 1.],\n",
       "       [0., 1.]], dtype=float32)"
      ]
     },
     "execution_count": 50,
     "metadata": {},
     "output_type": "execute_result"
    }
   ],
   "source": [
    "y_data_g"
   ]
  },
  {
   "cell_type": "code",
   "execution_count": 64,
   "metadata": {},
   "outputs": [
    {
     "name": "stdout",
     "output_type": "stream",
     "text": [
      "model acc: 87.59%\n"
     ]
    }
   ],
   "source": [
    "score = loaded_model.evaluate(X_data, y_data_r, verbose=0)\n",
    "print (\"model %s: %.2f%%\" % (loaded_model.metrics_names[1], score[1]*100))"
   ]
  },
  {
   "cell_type": "code",
   "execution_count": 65,
   "metadata": {},
   "outputs": [],
   "source": [
    "y_prob = loaded_model.predict(X_data, batch_size=32, verbose=0)\n",
    "y_pred = [np.argmax(prob) for prob in y_prob]\n",
    "y_true = [np.argmax(true) for true in y_data_r]"
   ]
  },
  {
   "cell_type": "code",
   "execution_count": 66,
   "metadata": {},
   "outputs": [
    {
     "name": "stdout",
     "output_type": "stream",
     "text": [
      "Classification Report:\n",
      "              precision    recall  f1-score   support\n",
      "\n",
      "           0       0.84      0.96      0.90     10077\n",
      "           1       0.95      0.89      0.92      4528\n",
      "           2       0.97      0.86      0.91      3434\n",
      "           3       0.86      0.85      0.86      3976\n",
      "           4       0.77      0.41      0.53      1692\n",
      "\n",
      "    accuracy                           0.88     23707\n",
      "   macro avg       0.88      0.79      0.82     23707\n",
      "weighted avg       0.88      0.88      0.87     23707\n",
      "\n",
      "Confusion Matrix:\n",
      "[[9705   75   39  187   71]\n",
      " [ 344 4024   19   91   50]\n",
      " [ 358   25 2944   76   31]\n",
      " [ 421   78   20 3399   58]\n",
      " [ 725   49   28  196  694]]\n"
     ]
    }
   ],
   "source": [
    "from sklearn import metrics\n",
    "\n",
    "#y_pred = loaded_model.predict(X_test)\n",
    "    \n",
    "print (\"Classification Report:\")\n",
    "print (metrics.classification_report(y_true, y_pred))\n",
    "print (\"Confusion Matrix:\")\n",
    "print (metrics.confusion_matrix(y_true, y_pred))"
   ]
  },
  {
   "cell_type": "code",
   "execution_count": null,
   "metadata": {},
   "outputs": [],
   "source": []
  }
 ],
 "metadata": {
  "kernelspec": {
   "display_name": "Python 3",
   "language": "python",
   "name": "python3"
  },
  "language_info": {
   "codemirror_mode": {
    "name": "ipython",
    "version": 3
   },
   "file_extension": ".py",
   "mimetype": "text/x-python",
   "name": "python",
   "nbconvert_exporter": "python",
   "pygments_lexer": "ipython3",
   "version": "3.6.8"
  }
 },
 "nbformat": 4,
 "nbformat_minor": 2
}
